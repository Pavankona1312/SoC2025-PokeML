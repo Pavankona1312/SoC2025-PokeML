{
 "cells": [
  {
   "cell_type": "code",
   "execution_count": 10,
   "id": "e4842b49",
   "metadata": {},
   "outputs": [],
   "source": [
    "import pandas as pd\n",
    "import numpy as np\n",
    "from sklearn.linear_model import LogisticRegression\n",
    "from sklearn.multioutput import MultiOutputClassifier\n",
    "from sklearn.metrics import accuracy_score, classification_report\n",
    "from sklearn.preprocessing import MultiLabelBinarizer"
   ]
  },
  {
   "cell_type": "code",
   "execution_count": 11,
   "id": "9bef4740",
   "metadata": {},
   "outputs": [],
   "source": [
    "# loading data \n",
    "train = pd.read_csv(\"trainst3.csv\")\n",
    "test = pd.read_csv(\"testst3.csv\")\n",
    "\n",
    "# data cleaning \n",
    "def parse_labels(labels):\n",
    "    return labels.apply(lambda x: x.split(','))\n",
    "\n",
    "y_train = parse_labels(train['color'])\n",
    "y_test = parse_labels(test['color'])\n",
    "\n",
    "mlb = MultiLabelBinarizer()\n",
    "Y_train = mlb.fit_transform(y_train)\n",
    "Y_test = mlb.transform(y_test)"
   ]
  },
  {
   "cell_type": "code",
   "execution_count": 12,
   "id": "06979ba9",
   "metadata": {},
   "outputs": [],
   "source": [
    "# conditions and training\n",
    "X_train = train[['x', 'y']]\n",
    "X_test = test[['x', 'y']]\n",
    "\n",
    "logreg = LogisticRegression(max_iter=1000, random_state=42)\n",
    "multi_model = MultiOutputClassifier(logreg)\n",
    "multi_model.fit(X_train, Y_train)\n",
    "\n",
    "Y_pred = multi_model.predict(X_test)"
   ]
  },
  {
   "cell_type": "code",
   "execution_count": 13,
   "id": "37fca6a0",
   "metadata": {},
   "outputs": [
    {
     "name": "stdout",
     "output_type": "stream",
     "text": [
      "Accuracy 90.625 %\n"
     ]
    }
   ],
   "source": [
    "# final result \n",
    "\n",
    "print(\"Accuracy\", (Y_pred == Y_test).mean()*100, \"%\")"
   ]
  }
 ],
 "metadata": {
  "kernelspec": {
   "display_name": ".venv",
   "language": "python",
   "name": "python3"
  },
  "language_info": {
   "codemirror_mode": {
    "name": "ipython",
    "version": 3
   },
   "file_extension": ".py",
   "mimetype": "text/x-python",
   "name": "python",
   "nbconvert_exporter": "python",
   "pygments_lexer": "ipython3",
   "version": "3.9.6"
  }
 },
 "nbformat": 4,
 "nbformat_minor": 5
}
