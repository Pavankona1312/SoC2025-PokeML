{
 "cells": [
  {
   "cell_type": "code",
   "execution_count": 41,
   "id": "2597ab9c",
   "metadata": {},
   "outputs": [],
   "source": [
    "import numpy as np"
   ]
  },
  {
   "cell_type": "code",
   "execution_count": 42,
   "id": "f7f8481b",
   "metadata": {},
   "outputs": [],
   "source": [
    "# the code will be predicting the values of mangoes (in ton) based on the data of temp, rainfall, humidity.\n",
    "# i will be using 80% for the training and 20% for testing so 12 cases for training and 3 cases for testing\n",
    "data = np.array([\n",
    "    [73, 67, 43],\n",
    "    [91, 88, 64],\n",
    "    [87, 134, 58],\n",
    "    [102, 43, 37],\n",
    "    [69, 96, 70],\n",
    "    [74, 66, 43],\n",
    "    [91, 87, 65],\n",
    "    [88, 134, 59],\n",
    "    [101, 44, 37],\n",
    "    [68, 96, 71],\n",
    "    [73, 66, 44],\n",
    "    [92, 87, 64]\n",
    "], dtype=float) # temp, rainfall and humidity matrix\n",
    "\n",
    "y = np.array([\n",
    "    56, 81, 119, 22, 103, 57, 80, 118, 21, 104, 57, 82\n",
    "], dtype=float).reshape(12, 1)"
   ]
  },
  {
   "cell_type": "code",
   "execution_count": 43,
   "id": "7d7451ae",
   "metadata": {},
   "outputs": [],
   "source": [
    "# time to normalize the data\n",
    "data_mean = data.mean(axis=0)\n",
    "data_std = data.std(axis=0)\n",
    "data_norm = (data - data_mean)/data_std"
   ]
  },
  {
   "cell_type": "code",
   "execution_count": 44,
   "id": "f1fd0af5",
   "metadata": {},
   "outputs": [],
   "source": [
    "# adding the bias term and the weights\n",
    "data_bias = np.c_[np.ones((12,1)), data_norm]\n",
    "weights = np.zeros((4,1))"
   ]
  },
  {
   "cell_type": "code",
   "execution_count": 45,
   "id": "17de9c97",
   "metadata": {},
   "outputs": [],
   "source": [
    "# doing gradient mini batch gradient descent ~ 1024 (2^10)\n",
    "\n",
    "learning_rate = 0.01\n",
    "descents = 1024\n",
    "\n",
    "for i in range(descents):\n",
    "    gradients = (2/len(data_bias)) * data_bias.T @ (data_bias @ weights - y)\n",
    "    weights -= learning_rate * gradients\n"
   ]
  },
  {
   "cell_type": "code",
   "execution_count": 46,
   "id": "3fca87ee",
   "metadata": {},
   "outputs": [],
   "source": [
    "# defining a function to predict using our linear regression\n",
    "\n",
    "def predict(data1_raw):\n",
    "    data1_norm = (data1_raw - data_mean) / data_std\n",
    "    data1_b = np.insert(data1_norm, 0, 1.0) \n",
    "    return np.dot(data1_b, weights)"
   ]
  },
  {
   "cell_type": "code",
   "execution_count": null,
   "id": "1cd18453",
   "metadata": {},
   "outputs": [
    {
     "name": "stdout",
     "output_type": "stream",
     "text": [
      "prediction for M: 118\n",
      "prediction for N: 19\n",
      "prediction for O: 103\n",
      "accuracy of our model: 99.44 %\n",
      "pretty good :)\n"
     ]
    }
   ],
   "source": [
    "# making predictions\n",
    "predictionM = np.array([87, 135, 57])\n",
    "predictionN = np.array([103, 43, 36])\n",
    "predictionO = np.array([68, 97, 70])\n",
    "\n",
    "predM = int(predict(predictionM)[0])\n",
    "predN = int(predict(predictionN)[0])\n",
    "predO = int(predict(predictionO)[0])\n",
    "\n",
    "# printing our prediction \n",
    "\n",
    "print(\"mango prediction for M:\", predM)\n",
    "print(\"mango prediction for N:\", predN)\n",
    "print(\"mango prediction for O:\", predO)\n",
    "\n",
    "# Calculate decimal accuracy\n",
    "actualM = 118\n",
    "actualN = 20\n",
    "actualO = 102\n",
    "\n",
    "accuracyM = 1 - abs(actualM - predM) / actualM\n",
    "accuracyN = 1 - abs(actualN - predN) / actualM \n",
    "accuracyO = 1 - abs(actualO - predO) / actualM\n",
    "\n",
    "avg_accuracy = (accuracyM + accuracyN + accuracyO) / 3\n",
    "\n",
    "print(\"accuracy of our model:\", round(avg_accuracy*100,2), \"%\")\n",
    "print(\"pretty good :)\")\n"
   ]
  }
 ],
 "metadata": {
  "kernelspec": {
   "display_name": ".venv",
   "language": "python",
   "name": "python3"
  },
  "language_info": {
   "codemirror_mode": {
    "name": "ipython",
    "version": 3
   },
   "file_extension": ".py",
   "mimetype": "text/x-python",
   "name": "python",
   "nbconvert_exporter": "python",
   "pygments_lexer": "ipython3",
   "version": "3.9.6"
  }
 },
 "nbformat": 4,
 "nbformat_minor": 5
}
