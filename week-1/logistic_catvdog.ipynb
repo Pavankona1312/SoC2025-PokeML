{
 "cells": [
  {
   "cell_type": "code",
   "execution_count": null,
   "id": "444bfc95",
   "metadata": {},
   "outputs": [],
   "source": [
    "import os # for kaggle archive\n",
    "from PIL import Image\n",
    "import numpy as np\n",
    "from sklearn.linear_model import LogisticRegression\n",
    "from sklearn.metrics import accuracy_score"
   ]
  },
  {
   "cell_type": "code",
   "execution_count": null,
   "id": "c0baf2b8",
   "metadata": {},
   "outputs": [],
   "source": [
    "# accessing the archive\n",
    "base_folder = \"archive\"\n",
    "train_cat_folder = os.path.join(base_folder, \"train\", \"cats\")\n",
    "train_dog_folder = os.path.join(base_folder, \"train\", \"dogs\")\n",
    "test_cat_folder = os.path.join(base_folder, \"test\", \"cats\")\n",
    "test_dog_folder = os.path.join(base_folder, \"test\", \"dogs\")\n",
    "\n",
    "# loading the images\n",
    "def load_images_from_folder(folder, label, size=(64, 64)):\n",
    "    images, labels = [], []\n",
    "    for fname in os.listdir(folder):\n",
    "        fpath = os.path.join(folder, fname)\n",
    "        try:\n",
    "            img = Image.open(fpath).resize(size).convert('RGB')\n",
    "            img_np = np.array(img) / 255.0\n",
    "            images.append(img_np.flatten())\n",
    "            labels.append(label)\n",
    "        except Exception as e:\n",
    "            print(f\"Skipped {fname}: {e}\")\n",
    "    return images, labels"
   ]
  },
  {
   "cell_type": "code",
   "execution_count": 10,
   "id": "6295a6ba",
   "metadata": {},
   "outputs": [],
   "source": [
    "\n",
    "\n",
    "# accessing the archive\n",
    "base_folder = \"archive\"\n",
    "train_cat_folder = os.path.join(base_folder, \"train\", \"cats\")\n",
    "train_dog_folder = os.path.join(base_folder, \"train\", \"dogs\")\n",
    "test_cat_folder = os.path.join(base_folder, \"test\", \"cats\")\n",
    "test_dog_folder = os.path.join(base_folder, \"test\", \"dogs\")\n",
    "\n",
    "# loading the images\n",
    "def load_images_from_folder(folder, label, size=(64, 64)):\n",
    "    images, labels = [], []\n",
    "    for fname in os.listdir(folder):\n",
    "        fpath = os.path.join(folder, fname)\n",
    "        try:\n",
    "            img = Image.open(fpath).resize(size).convert('RGB')\n",
    "            img_np = np.array(img) / 255.0\n",
    "            images.append(img_np.flatten())\n",
    "            labels.append(label)\n",
    "        except Exception as e:\n",
    "            print(f\"Skipped {fname}: {e}\")\n",
    "    return images, labels"
   ]
  },
  {
   "cell_type": "code",
   "execution_count": 9,
   "id": "dc860010",
   "metadata": {},
   "outputs": [
    {
     "name": "stdout",
     "output_type": "stream",
     "text": [
      "Loading training images...\n",
      "Loading test images...\n",
      "Training model...\n"
     ]
    },
    {
     "name": "stderr",
     "output_type": "stream",
     "text": [
      "/Users/Sugi/SoC2025-PokeML/.venv/lib/python3.9/site-packages/sklearn/linear_model/_logistic.py:465: ConvergenceWarning: lbfgs failed to converge (status=1):\n",
      "STOP: TOTAL NO. of ITERATIONS REACHED LIMIT.\n",
      "\n",
      "Increase the number of iterations (max_iter) or scale the data as shown in:\n",
      "    https://scikit-learn.org/stable/modules/preprocessing.html\n",
      "Please also refer to the documentation for alternative solver options:\n",
      "    https://scikit-learn.org/stable/modules/linear_model.html#logistic-regression\n",
      "  n_iter_i = _check_optimize_result(\n"
     ]
    },
    {
     "name": "stdout",
     "output_type": "stream",
     "text": [
      "Test accuracy (Cats vs Dogs): 58.72%\n"
     ]
    }
   ],
   "source": [
    "# training data images \n",
    "print(\"Loading training images...\")\n",
    "X_cat_train, y_cat_train = load_images_from_folder(train_cat_folder, 0)\n",
    "X_dog_train, y_dog_train = load_images_from_folder(train_dog_folder, 1)\n",
    "\n",
    "X_train = np.array(X_cat_train + X_dog_train)\n",
    "y_train = np.array(y_cat_train + y_dog_train)\n",
    "\n",
    "# test data images \n",
    "print(\"Loading test images...\")\n",
    "X_cat_test, y_cat_test = load_images_from_folder(test_cat_folder, 0)\n",
    "X_dog_test, y_dog_test = load_images_from_folder(test_dog_folder, 1)\n",
    "\n",
    "X_test = np.array(X_cat_test + X_dog_test)\n",
    "y_test = np.array(y_cat_test + y_dog_test)\n",
    "\n",
    "# training our logistic regression \n",
    "clf = LogisticRegression(max_iter=500, solver='lbfgs')\n",
    "print(\"Training model...\")\n",
    "clf.fit(X_train, y_train)\n",
    "\n",
    "# final results \n",
    "y_pred = clf.predict(X_test)\n",
    "accuracy = accuracy_score(y_test, y_pred)\n",
    "print(f\"Test accuracy (Cats vs Dogs): {accuracy * 100:.2f}%\")\n"
   ]
  }
 ],
 "metadata": {
  "kernelspec": {
   "display_name": ".venv",
   "language": "python",
   "name": "python3"
  },
  "language_info": {
   "codemirror_mode": {
    "name": "ipython",
    "version": 3
   },
   "file_extension": ".py",
   "mimetype": "text/x-python",
   "name": "python",
   "nbconvert_exporter": "python",
   "pygments_lexer": "ipython3",
   "version": "3.9.6"
  }
 },
 "nbformat": 4,
 "nbformat_minor": 5
}
